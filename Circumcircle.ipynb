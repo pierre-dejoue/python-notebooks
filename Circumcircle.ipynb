{
 "cells": [
  {
   "cell_type": "code",
   "execution_count": 12,
   "metadata": {},
   "outputs": [],
   "source": [
    "a = [0.025047823616310, -0.4133734963715]\n",
    "d = [-0.01870869221693, -0.4012556846482]\n",
    "e = [-0.01866820383825, -0.4012496129870]\n",
    "f = [-0.01865929845770, -0.4012482863366]"
   ]
  },
  {
   "cell_type": "code",
   "execution_count": 13,
   "metadata": {},
   "outputs": [],
   "source": [
    "def inCircumcircle(a, b, c, d):\n",
    "    \"\"\"Is d in abc's circumcircle?\"\"\"\n",
    "    \n",
    "    adx = a[0] - d[0];\n",
    "    ady = a[1] - d[1];\n",
    "    bdx = b[0] - d[0];\n",
    "    bdy = b[1] - d[1];\n",
    "    cdx = c[0] - d[0];\n",
    "    cdy = c[1] - d[1];\n",
    "\n",
    "    oabd = adx * bdy - bdx * ady;\n",
    "    ocad = cdx * ady - adx * cdy;\n",
    "    obcd = bdx * cdy - cdx * bdy;\n",
    "\n",
    "    alift = adx * adx + ady * ady;\n",
    "    blift = bdx * bdx + bdy * bdy;\n",
    "    clift = cdx * cdx + cdy * cdy;\n",
    "\n",
    "    det = alift * obcd + blift * ocad + clift * oabd;\n",
    "\n",
    "    return (det > 0, det);"
   ]
  },
  {
   "cell_type": "code",
   "execution_count": 14,
   "metadata": {},
   "outputs": [
    {
     "name": "stdout",
     "output_type": "stream",
     "text": [
      "(True, 3.942721942191207e-16)\n",
      "(False, -3.942723815361484e-16)\n",
      "(True, 3.942721942191472e-16)\n"
     ]
    }
   ],
   "source": [
    "print(inCircumcircle(f, e, a, d))\n",
    "print(inCircumcircle(e, d, f, a))\n",
    "print(inCircumcircle(d, a, e, f))"
   ]
  },
  {
   "cell_type": "code",
   "execution_count": null,
   "metadata": {},
   "outputs": [],
   "source": []
  }
 ],
 "metadata": {
  "kernelspec": {
   "display_name": "Python 3",
   "language": "python",
   "name": "python3"
  },
  "language_info": {
   "codemirror_mode": {
    "name": "ipython",
    "version": 3
   },
   "file_extension": ".py",
   "mimetype": "text/x-python",
   "name": "python",
   "nbconvert_exporter": "python",
   "pygments_lexer": "ipython3",
   "version": "3.8.3"
  }
 },
 "nbformat": 4,
 "nbformat_minor": 4
}
