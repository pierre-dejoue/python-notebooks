{
 "cells": [
  {
   "cell_type": "markdown",
   "metadata": {},
   "source": [
    "### Fibonacci Series"
   ]
  },
  {
   "cell_type": "code",
   "execution_count": null,
   "metadata": {},
   "outputs": [],
   "source": [
    "import fibogrowth as fb\n",
    "import importlib\n",
    "import numpy as np\n",
    "import matplotlib.pyplot as plt\n",
    "import math\n",
    "\n",
    "importlib.reload(fb)\n",
    "\n",
    "print([fb.fibo(n) for n in range(20)])"
   ]
  },
  {
   "cell_type": "markdown",
   "metadata": {},
   "source": [
    "### Sunflower Pattern"
   ]
  },
  {
   "cell_type": "code",
   "execution_count": null,
   "metadata": {},
   "outputs": [],
   "source": [
    "print('Golden ratio = {}'.format(fb.golden))\n",
    "print('Phi =          {}'.format(fb.phi))"
   ]
  },
  {
   "cell_type": "code",
   "execution_count": null,
   "metadata": {},
   "outputs": [],
   "source": [
    "def draw_sunflower(N, interval_group, r0, a0, area_slope = 0):\n",
    "    it = fb.fibo(interval_group)\n",
    "    print('Total seeds = {}'.format(N))\n",
    "    print('Red seeds interval = {}'.format(it))\n",
    "    fg = fb.FiboGrowth(r0, a0, area_slope)\n",
    "    dist = [ fg.radius(n) for n in range(N) ]\n",
    "    theta = [ fg.angle(n) for n in range(N) ]\n",
    "    area = [ fg.area(n) for n in range(N) ]\n",
    "    colors = [ 0.05 ] * N\n",
    "    for k in range(0, N, it):\n",
    "        colors[k] = 0.9\n",
    "        area[k] *= 1.5\n",
    "\n",
    "    plt.figure(figsize=[10, 10])\n",
    "    ax = plt.gca(projection='polar')\n",
    "    plt.ylim(0, 1.05 * max(dist))\n",
    "    print('Radius = {}'.format(max(dist)))\n",
    "    pix_per_unit = (ax.transData.transform([0, 1]) - ax.transData.transform([0, 0]))[0]\n",
    "    scaled_area = list(map(lambda r: pix_per_unit**2 * r, area))\n",
    "    plt.scatter(theta, dist, c=colors, s=scaled_area, cmap='jet', vmin=0.0, vmax=1.0)\n",
    "    plt.title('Sunflower')\n",
    "    plt.show()"
   ]
  },
  {
   "cell_type": "code",
   "execution_count": null,
   "metadata": {},
   "outputs": [],
   "source": [
    "draw_sunflower(1000, 10, 1, 0.5)"
   ]
  },
  {
   "cell_type": "code",
   "execution_count": null,
   "metadata": {},
   "outputs": [],
   "source": [
    "draw_sunflower(2000, 10, 1, 2, 0.001)"
   ]
  },
  {
   "cell_type": "code",
   "execution_count": null,
   "metadata": {},
   "outputs": [],
   "source": [
    "draw_sunflower(2000, 10, 1, 2, 0.01)"
   ]
  },
  {
   "cell_type": "markdown",
   "metadata": {},
   "source": [
    "### References\n",
    "- Helmut Vogel (1979) _A better way to construct the sunflower head_"
   ]
  }
 ],
 "metadata": {
  "kernelspec": {
   "display_name": "Python 3",
   "language": "python",
   "name": "python3"
  },
  "language_info": {
   "codemirror_mode": {
    "name": "ipython",
    "version": 3
   },
   "file_extension": ".py",
   "mimetype": "text/x-python",
   "name": "python",
   "nbconvert_exporter": "python",
   "pygments_lexer": "ipython3",
   "version": "3.8.3"
  }
 },
 "nbformat": 4,
 "nbformat_minor": 4
}
