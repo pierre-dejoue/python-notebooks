{
 "cells": [
  {
   "cell_type": "markdown",
   "metadata": {},
   "source": [
    "### Fibonacci Series"
   ]
  },
  {
   "cell_type": "code",
   "execution_count": null,
   "metadata": {},
   "outputs": [],
   "source": [
    "import fibogrowth as fb\n",
    "import importlib\n",
    "import numpy as np\n",
    "import matplotlib.pyplot as plt\n",
    "import math\n",
    "\n",
    "importlib.reload(fb)\n",
    "\n",
    "print([fb.fibo(n) for n in range(20)])"
   ]
  },
  {
   "cell_type": "markdown",
   "metadata": {},
   "source": [
    "### Sunflower Pattern"
   ]
  },
  {
   "cell_type": "code",
   "execution_count": null,
   "metadata": {},
   "outputs": [],
   "source": [
    "print('Golden ratio = {}'.format(fb.golden))\n",
    "print('Phi =          {}'.format(fb.phi))"
   ]
  },
  {
   "cell_type": "code",
   "execution_count": null,
   "metadata": {},
   "outputs": [],
   "source": [
    "N = 1000\n",
    "it = fb.fibo(10)\n",
    "print('Total seeds = {}'.format(N))\n",
    "print('Red seeds interval = {}'.format(it))\n",
    "r0 = 1\n",
    "dist = [ r0 * fb.radius(n) for n in range(N) ]\n",
    "theta = [ fb.angle(n) for n in range(N) ]\n",
    "area = [ 20 ] * N\n",
    "colors = [ 0.05 ] * N\n",
    "for k in range(0, N, it):\n",
    "    colors[k] = 0.9\n",
    "    area[k] = 30\n",
    "\n",
    "plt.figure(figsize=[10, 10])\n",
    "plt.subplot(111, projection='polar')\n",
    "plt.scatter(theta, dist, c=colors, s=area, cmap='jet', vmin=0.0, vmax=1.0)\n",
    "plt.title('Sunflower')\n",
    "plt.show()"
   ]
  },
  {
   "cell_type": "markdown",
   "metadata": {},
   "source": [
    "### References\n",
    "- Helmut Vogel (1979) _A better way to construct the sunflower head_"
   ]
  }
 ],
 "metadata": {
  "kernelspec": {
   "display_name": "Python 3",
   "language": "python",
   "name": "python3"
  },
  "language_info": {
   "codemirror_mode": {
    "name": "ipython",
    "version": 3
   },
   "file_extension": ".py",
   "mimetype": "text/x-python",
   "name": "python",
   "nbconvert_exporter": "python",
   "pygments_lexer": "ipython3",
   "version": "3.8.3"
  }
 },
 "nbformat": 4,
 "nbformat_minor": 4
}
